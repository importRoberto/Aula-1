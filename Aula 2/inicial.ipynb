version https://git-lfs.github.com/spec/v1
oid sha256:a9779ff7f2fc9c4a25bdd2c53def37ff80fa6f6aed9fc8547adbe8acb4b70913
size 122425599
